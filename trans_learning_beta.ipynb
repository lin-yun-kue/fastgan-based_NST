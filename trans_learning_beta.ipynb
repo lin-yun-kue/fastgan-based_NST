{
 "cells": [
  {
   "cell_type": "code",
   "execution_count": 60,
   "metadata": {},
   "outputs": [],
   "source": [
    "import torch\n",
    "import os\n",
    "import torchvision.utils as vutils\n",
    "import torch.nn as nn\n",
    "import torch.nn.functional as F\n",
    "from models import weights_init, Discriminator, Generator\n",
    "from operation import copy_G_params, load_params"
   ]
  },
  {
   "cell_type": "code",
   "execution_count": 61,
   "metadata": {},
   "outputs": [
    {
     "name": "stdout",
     "output_type": "stream",
     "text": [
      "cuda\n"
     ]
    }
   ],
   "source": [
    "device = torch.device(\"cuda\" if torch.cuda.is_available() else \"cpu\")\n",
    "print(device)\n",
    "\n",
    "model_path = os.path.abspath(\"all_40000/all_40000.pth\")  # 確保這個檔案存在\n",
    "\n",
    "if not os.path.exists(model_path):\n",
    "    raise FileNotFoundError(f\"模型權重檔案不存在: {model_path}\")\n",
    "\n",
    "\n",
    "# latent_dim = 100  # 你的 Generator 使用的是 nz=100\n",
    "netG = Generator(im_size=256, nz=256)\n",
    "netG.apply(weights_init)\n",
    "\n",
    "netD = Discriminator(im_size=256)\n",
    "netD.apply(weights_init)\n",
    "\n",
    "netG.to(device)\n",
    "netD.to(device)\n",
    "\n",
    "ckpt = torch.load(model_path, map_location=device, weights_only=True)\n",
    "netG.load_state_dict(ckpt['g'])\n",
    "netD.load_state_dict(ckpt['d'])\n",
    "avg_param_G = ckpt['g_ema']\n",
    "load_params(netG, avg_param_G)"
   ]
  },
  {
   "cell_type": "code",
   "execution_count": 62,
   "metadata": {},
   "outputs": [
    {
     "name": "stdout",
     "output_type": "stream",
     "text": [
      "init\n",
      "feat_8\n",
      "feat_16\n",
      "feat_32\n",
      "feat_64\n",
      "feat_128\n",
      "feat_256\n",
      "se_64\n",
      "se_128\n",
      "se_256\n",
      "to_128\n",
      "to_big\n"
     ]
    }
   ],
   "source": [
    "for name, layer in netG.named_children():\n",
    "    print(name)"
   ]
  },
  {
   "cell_type": "code",
   "execution_count": 63,
   "metadata": {},
   "outputs": [],
   "source": [
    "import torch.optim as optim\n",
    "\n",
    "# targets = [ 'se_64', 'se_128', 'se_256', 'to_big']\n",
    "targets = ['init', 'feat_8', 'feat_16']\n",
    "for name, layer in netG.named_children():\n",
    "    for param in layer.parameters():\n",
    "        if(name in targets):\n",
    "            param.requires_grad = False\n",
    "        else:\n",
    "            param.requires_grad = True\n",
    "\n",
    "nlr = 0.0002\n",
    "nbeta1 = 0.0\n",
    "weight_decay = 0.0003\n",
    "g_optimizer = optim.Adam(netG.parameters(), lr=nlr, betas=(nbeta1, 0.99), weight_decay=weight_decay)\n",
    "d_optimizer = optim.Adam(netD.parameters(), lr=nlr, betas=(nbeta1, 0.99), weight_decay=weight_decay)"
   ]
  },
  {
   "cell_type": "code",
   "execution_count": null,
   "metadata": {},
   "outputs": [
    {
     "name": "stdout",
     "output_type": "stream",
     "text": [
      "3\n"
     ]
    },
    {
     "name": "stderr",
     "output_type": "stream",
     "text": [
      "<>:16: SyntaxWarning: invalid escape sequence '\\O'\n",
      "<>:16: SyntaxWarning: invalid escape sequence '\\O'\n",
      "C:\\Users\\b4088\\AppData\\Local\\Temp\\ipykernel_33200\\4014493556.py:16: SyntaxWarning: invalid escape sequence '\\O'\n",
      "  data_root = 'C:\\\\Users\\\\b4088\\OneDrive\\\\Desktop\\\\DeepLearning\\\\Assignment\\\\FinalProject\\\\learn_style'\n"
     ]
    }
   ],
   "source": [
    "from operation import ImageFolder\n",
    "import torchvision.transforms as transforms\n",
    "from torch.utils.data.dataloader import DataLoader\n",
    "from operation import ImageFolder, InfiniteSamplerWrapper\n",
    "\n",
    "\n",
    "def enhance_channel(img_tensor, channel_idx, factor=1.5):\n",
    "    enhanced = img_tensor.clone()\n",
    "    enhanced[channel_idx] = torch.clamp(enhanced[channel_idx] * factor, -1.0, 1.0)  \n",
    "    print(type(enhanced))\n",
    "    return enhanced\n",
    "\n",
    "def color_augmentation(img_tensor):\n",
    "    return [enhance_channel(img_tensor, i) for i in range(3)]\n",
    "\n",
    "data_root = 'C:\\\\Users\\\\b4088\\OneDrive\\\\Desktop\\\\DeepLearning\\\\Assignment\\\\FinalProject\\\\learn_style'\n",
    "transform_list = [\n",
    "            transforms.Resize((int(256),int(256))),\n",
    "            transforms.RandomHorizontalFlip(),\n",
    "            transforms.ToTensor(),\n",
    "            transforms.Normalize(mean=[0.5, 0.5, 0.5], std=[0.5, 0.5, 0.5]),\n",
    "            # transforms.Lambda(color_augmentation) \n",
    "        ]\n",
    "trans = transforms.Compose(transform_list)\n",
    "\n",
    "dataset = ImageFolder(root=data_root, transform=trans)\n",
    "print(len(dataset))\n",
    "dataloader = iter(DataLoader(dataset, batch_size=4, shuffle=False,\n",
    "                      sampler=InfiniteSamplerWrapper(dataset), num_workers=2, pin_memory=True))\n"
   ]
  },
  {
   "cell_type": "code",
   "execution_count": 74,
   "metadata": {},
   "outputs": [
    {
     "name": "stderr",
     "output_type": "stream",
     "text": [
      "  0%|          | 0/120 [00:05<?, ?it/s]\n"
     ]
    },
    {
     "ename": "RuntimeError",
     "evalue": "DataLoader worker (pid(s) 5112, 19444) exited unexpectedly",
     "output_type": "error",
     "traceback": [
      "\u001b[1;31m---------------------------------------------------------------------------\u001b[0m",
      "\u001b[1;31mEmpty\u001b[0m                                     Traceback (most recent call last)",
      "File \u001b[1;32mc:\\Users\\b4088\\AppData\\Local\\Programs\\Python\\Python312\\Lib\\site-packages\\torch\\utils\\data\\dataloader.py:1243\u001b[0m, in \u001b[0;36m_MultiProcessingDataLoaderIter._try_get_data\u001b[1;34m(self, timeout)\u001b[0m\n\u001b[0;32m   1242\u001b[0m \u001b[38;5;28;01mtry\u001b[39;00m:\n\u001b[1;32m-> 1243\u001b[0m     data \u001b[38;5;241m=\u001b[39m \u001b[38;5;28;43mself\u001b[39;49m\u001b[38;5;241;43m.\u001b[39;49m\u001b[43m_data_queue\u001b[49m\u001b[38;5;241;43m.\u001b[39;49m\u001b[43mget\u001b[49m\u001b[43m(\u001b[49m\u001b[43mtimeout\u001b[49m\u001b[38;5;241;43m=\u001b[39;49m\u001b[43mtimeout\u001b[49m\u001b[43m)\u001b[49m\n\u001b[0;32m   1244\u001b[0m     \u001b[38;5;28;01mreturn\u001b[39;00m (\u001b[38;5;28;01mTrue\u001b[39;00m, data)\n",
      "File \u001b[1;32mc:\\Users\\b4088\\AppData\\Local\\Programs\\Python\\Python312\\Lib\\queue.py:179\u001b[0m, in \u001b[0;36mQueue.get\u001b[1;34m(self, block, timeout)\u001b[0m\n\u001b[0;32m    178\u001b[0m \u001b[38;5;28;01mif\u001b[39;00m remaining \u001b[38;5;241m<\u001b[39m\u001b[38;5;241m=\u001b[39m \u001b[38;5;241m0.0\u001b[39m:\n\u001b[1;32m--> 179\u001b[0m     \u001b[38;5;28;01mraise\u001b[39;00m Empty\n\u001b[0;32m    180\u001b[0m \u001b[38;5;28mself\u001b[39m\u001b[38;5;241m.\u001b[39mnot_empty\u001b[38;5;241m.\u001b[39mwait(remaining)\n",
      "\u001b[1;31mEmpty\u001b[0m: ",
      "\nThe above exception was the direct cause of the following exception:\n",
      "\u001b[1;31mRuntimeError\u001b[0m                              Traceback (most recent call last)",
      "Cell \u001b[1;32mIn[74], line 8\u001b[0m\n\u001b[0;32m      4\u001b[0m policy \u001b[38;5;241m=\u001b[39m \u001b[38;5;124m'\u001b[39m\u001b[38;5;124mcolor,translation\u001b[39m\u001b[38;5;124m'\u001b[39m\n\u001b[0;32m      7\u001b[0m \u001b[38;5;28;01mfor\u001b[39;00m i \u001b[38;5;129;01min\u001b[39;00m tqdm(\u001b[38;5;28mrange\u001b[39m(\u001b[38;5;241m0\u001b[39m, \u001b[38;5;241m120\u001b[39m)):\n\u001b[1;32m----> 8\u001b[0m     real_images \u001b[38;5;241m=\u001b[39m \u001b[38;5;28;43mnext\u001b[39;49m\u001b[43m(\u001b[49m\u001b[43mdataloader\u001b[49m\u001b[43m)\u001b[49m\n\u001b[0;32m      9\u001b[0m     real_images \u001b[38;5;241m=\u001b[39m real_images\u001b[38;5;241m.\u001b[39mto(device)\n\u001b[0;32m     10\u001b[0m     real_images \u001b[38;5;241m=\u001b[39m DiffAugment(real_images, policy\u001b[38;5;241m=\u001b[39mpolicy)\n",
      "File \u001b[1;32mc:\\Users\\b4088\\AppData\\Local\\Programs\\Python\\Python312\\Lib\\site-packages\\torch\\utils\\data\\dataloader.py:701\u001b[0m, in \u001b[0;36m_BaseDataLoaderIter.__next__\u001b[1;34m(self)\u001b[0m\n\u001b[0;32m    698\u001b[0m \u001b[38;5;28;01mif\u001b[39;00m \u001b[38;5;28mself\u001b[39m\u001b[38;5;241m.\u001b[39m_sampler_iter \u001b[38;5;129;01mis\u001b[39;00m \u001b[38;5;28;01mNone\u001b[39;00m:\n\u001b[0;32m    699\u001b[0m     \u001b[38;5;66;03m# TODO(https://github.com/pytorch/pytorch/issues/76750)\u001b[39;00m\n\u001b[0;32m    700\u001b[0m     \u001b[38;5;28mself\u001b[39m\u001b[38;5;241m.\u001b[39m_reset()  \u001b[38;5;66;03m# type: ignore[call-arg]\u001b[39;00m\n\u001b[1;32m--> 701\u001b[0m data \u001b[38;5;241m=\u001b[39m \u001b[38;5;28;43mself\u001b[39;49m\u001b[38;5;241;43m.\u001b[39;49m\u001b[43m_next_data\u001b[49m\u001b[43m(\u001b[49m\u001b[43m)\u001b[49m\n\u001b[0;32m    702\u001b[0m \u001b[38;5;28mself\u001b[39m\u001b[38;5;241m.\u001b[39m_num_yielded \u001b[38;5;241m+\u001b[39m\u001b[38;5;241m=\u001b[39m \u001b[38;5;241m1\u001b[39m\n\u001b[0;32m    703\u001b[0m \u001b[38;5;28;01mif\u001b[39;00m (\n\u001b[0;32m    704\u001b[0m     \u001b[38;5;28mself\u001b[39m\u001b[38;5;241m.\u001b[39m_dataset_kind \u001b[38;5;241m==\u001b[39m _DatasetKind\u001b[38;5;241m.\u001b[39mIterable\n\u001b[0;32m    705\u001b[0m     \u001b[38;5;129;01mand\u001b[39;00m \u001b[38;5;28mself\u001b[39m\u001b[38;5;241m.\u001b[39m_IterableDataset_len_called \u001b[38;5;129;01mis\u001b[39;00m \u001b[38;5;129;01mnot\u001b[39;00m \u001b[38;5;28;01mNone\u001b[39;00m\n\u001b[0;32m    706\u001b[0m     \u001b[38;5;129;01mand\u001b[39;00m \u001b[38;5;28mself\u001b[39m\u001b[38;5;241m.\u001b[39m_num_yielded \u001b[38;5;241m>\u001b[39m \u001b[38;5;28mself\u001b[39m\u001b[38;5;241m.\u001b[39m_IterableDataset_len_called\n\u001b[0;32m    707\u001b[0m ):\n",
      "File \u001b[1;32mc:\\Users\\b4088\\AppData\\Local\\Programs\\Python\\Python312\\Lib\\site-packages\\torch\\utils\\data\\dataloader.py:1448\u001b[0m, in \u001b[0;36m_MultiProcessingDataLoaderIter._next_data\u001b[1;34m(self)\u001b[0m\n\u001b[0;32m   1445\u001b[0m     \u001b[38;5;28;01mreturn\u001b[39;00m \u001b[38;5;28mself\u001b[39m\u001b[38;5;241m.\u001b[39m_process_data(data)\n\u001b[0;32m   1447\u001b[0m \u001b[38;5;28;01massert\u001b[39;00m \u001b[38;5;129;01mnot\u001b[39;00m \u001b[38;5;28mself\u001b[39m\u001b[38;5;241m.\u001b[39m_shutdown \u001b[38;5;129;01mand\u001b[39;00m \u001b[38;5;28mself\u001b[39m\u001b[38;5;241m.\u001b[39m_tasks_outstanding \u001b[38;5;241m>\u001b[39m \u001b[38;5;241m0\u001b[39m\n\u001b[1;32m-> 1448\u001b[0m idx, data \u001b[38;5;241m=\u001b[39m \u001b[38;5;28;43mself\u001b[39;49m\u001b[38;5;241;43m.\u001b[39;49m\u001b[43m_get_data\u001b[49m\u001b[43m(\u001b[49m\u001b[43m)\u001b[49m\n\u001b[0;32m   1449\u001b[0m \u001b[38;5;28mself\u001b[39m\u001b[38;5;241m.\u001b[39m_tasks_outstanding \u001b[38;5;241m-\u001b[39m\u001b[38;5;241m=\u001b[39m \u001b[38;5;241m1\u001b[39m\n\u001b[0;32m   1450\u001b[0m \u001b[38;5;28;01mif\u001b[39;00m \u001b[38;5;28mself\u001b[39m\u001b[38;5;241m.\u001b[39m_dataset_kind \u001b[38;5;241m==\u001b[39m _DatasetKind\u001b[38;5;241m.\u001b[39mIterable:\n\u001b[0;32m   1451\u001b[0m     \u001b[38;5;66;03m# Check for _IterableDatasetStopIteration\u001b[39;00m\n",
      "File \u001b[1;32mc:\\Users\\b4088\\AppData\\Local\\Programs\\Python\\Python312\\Lib\\site-packages\\torch\\utils\\data\\dataloader.py:1402\u001b[0m, in \u001b[0;36m_MultiProcessingDataLoaderIter._get_data\u001b[1;34m(self)\u001b[0m\n\u001b[0;32m   1400\u001b[0m \u001b[38;5;28;01melif\u001b[39;00m \u001b[38;5;28mself\u001b[39m\u001b[38;5;241m.\u001b[39m_pin_memory:\n\u001b[0;32m   1401\u001b[0m     \u001b[38;5;28;01mwhile\u001b[39;00m \u001b[38;5;28mself\u001b[39m\u001b[38;5;241m.\u001b[39m_pin_memory_thread\u001b[38;5;241m.\u001b[39mis_alive():\n\u001b[1;32m-> 1402\u001b[0m         success, data \u001b[38;5;241m=\u001b[39m \u001b[38;5;28;43mself\u001b[39;49m\u001b[38;5;241;43m.\u001b[39;49m\u001b[43m_try_get_data\u001b[49m\u001b[43m(\u001b[49m\u001b[43m)\u001b[49m\n\u001b[0;32m   1403\u001b[0m         \u001b[38;5;28;01mif\u001b[39;00m success:\n\u001b[0;32m   1404\u001b[0m             \u001b[38;5;28;01mreturn\u001b[39;00m data\n",
      "File \u001b[1;32mc:\\Users\\b4088\\AppData\\Local\\Programs\\Python\\Python312\\Lib\\site-packages\\torch\\utils\\data\\dataloader.py:1256\u001b[0m, in \u001b[0;36m_MultiProcessingDataLoaderIter._try_get_data\u001b[1;34m(self, timeout)\u001b[0m\n\u001b[0;32m   1254\u001b[0m \u001b[38;5;28;01mif\u001b[39;00m \u001b[38;5;28mlen\u001b[39m(failed_workers) \u001b[38;5;241m>\u001b[39m \u001b[38;5;241m0\u001b[39m:\n\u001b[0;32m   1255\u001b[0m     pids_str \u001b[38;5;241m=\u001b[39m \u001b[38;5;124m\"\u001b[39m\u001b[38;5;124m, \u001b[39m\u001b[38;5;124m\"\u001b[39m\u001b[38;5;241m.\u001b[39mjoin(\u001b[38;5;28mstr\u001b[39m(w\u001b[38;5;241m.\u001b[39mpid) \u001b[38;5;28;01mfor\u001b[39;00m w \u001b[38;5;129;01min\u001b[39;00m failed_workers)\n\u001b[1;32m-> 1256\u001b[0m     \u001b[38;5;28;01mraise\u001b[39;00m \u001b[38;5;167;01mRuntimeError\u001b[39;00m(\n\u001b[0;32m   1257\u001b[0m         \u001b[38;5;124mf\u001b[39m\u001b[38;5;124m\"\u001b[39m\u001b[38;5;124mDataLoader worker (pid(s) \u001b[39m\u001b[38;5;132;01m{\u001b[39;00mpids_str\u001b[38;5;132;01m}\u001b[39;00m\u001b[38;5;124m) exited unexpectedly\u001b[39m\u001b[38;5;124m\"\u001b[39m\n\u001b[0;32m   1258\u001b[0m     ) \u001b[38;5;28;01mfrom\u001b[39;00m\u001b[38;5;250m \u001b[39m\u001b[38;5;21;01me\u001b[39;00m\n\u001b[0;32m   1259\u001b[0m \u001b[38;5;28;01mif\u001b[39;00m \u001b[38;5;28misinstance\u001b[39m(e, queue\u001b[38;5;241m.\u001b[39mEmpty):\n\u001b[0;32m   1260\u001b[0m     \u001b[38;5;28;01mreturn\u001b[39;00m (\u001b[38;5;28;01mFalse\u001b[39;00m, \u001b[38;5;28;01mNone\u001b[39;00m)\n",
      "\u001b[1;31mRuntimeError\u001b[0m: DataLoader worker (pid(s) 5112, 19444) exited unexpectedly"
     ]
    }
   ],
   "source": [
    "from tqdm import tqdm\n",
    "from train import train_d\n",
    "from diffaug import DiffAugment\n",
    "policy = 'color,translation'\n",
    "\n",
    "\n",
    "for i in tqdm(range(0, 120)):\n",
    "    real_images = next(dataloader)\n",
    "    real_images = real_images.to(device)\n",
    "    real_images = DiffAugment(real_images, policy=policy)\n",
    "\n",
    "    batch_size = real_images.size(0)\n",
    "\n",
    "    z = torch.randn(batch_size, 256, 1, 1).to(device)\n",
    "\n",
    "    fake_images = netG(z)\n",
    "    fake_images = [DiffAugment(fake, policy=policy) for fake in fake_images]\n",
    "\n",
    "\n",
    "    # train disc\n",
    "    netD.zero_grad()\n",
    "\n",
    "    err_dr, rec_img_all, rec_img_small, rec_img_part = train_d(netD, real_images, label=\"real\")\n",
    "    train_d(netD, [fi.detach() for fi in fake_images], label=\"fake\")\n",
    "    d_optimizer.step()\n",
    "\n",
    "    # train gen\n",
    "    netG.zero_grad()\n",
    "    pred_g = netD(fake_images, \"fake\")\n",
    "    err_g = -pred_g.mean()\n",
    "\n",
    "    err_g.backward()\n",
    "    g_optimizer.step()\n",
    "\n",
    "    # real_logits = netD(real_images, label=\"real\", part=0)\n",
    "    # fake_logits = netD(fake_images.detach(), label=\"fake\", part=0 )\n",
    "    \n",
    "    # print(fake_logits)\n",
    "    # highr logits means discriminator believes it's a real image\n",
    "    # d_loss = F.softplus(-real_logits[0]).mean() + F.softplus(fake_logits[0]).mean()\n",
    "    \n",
    "    # d_optimizer.zero_grad()\n",
    "    # d_loss.backward()\n",
    "    # d_optimizer.step()\n",
    "\n",
    "    # fake_logits = netD(fake_images, label=\"fake\", part=0)\n",
    "    # g_loss = -F.softplus(fake_logits).mean()\n",
    "    # g_loss = -fake_logits.mean()\n",
    "    # g_optimizer.zero_grad()\n",
    "    # g_loss.backward()\n",
    "    # g_optimizer.step()\n",
    "    # print(f\"{i}, G Loss: {g_loss:.4f}, D Loss: {d_loss:.4f}\")\n",
    "\n",
    "\n",
    "\n"
   ]
  },
  {
   "cell_type": "code",
   "execution_count": null,
   "metadata": {},
   "outputs": [],
   "source": [
    "torch.save({'g': netG.state_dict(),'g_ema': netG.state_dict(), 'd': netD.state_dict()}, \"fine_tuned_stylegan2.pth\")"
   ]
  },
  {
   "cell_type": "code",
   "execution_count": null,
   "metadata": {},
   "outputs": [
    {
     "name": "stdout",
     "output_type": "stream",
     "text": [
      "✅ 圖片已生成並儲存！\n"
     ]
    }
   ],
   "source": [
    "import torch\n",
    "import os\n",
    "import torchvision.utils as vutils\n",
    "import torch.nn as nn\n",
    "import torch.nn.functional as F\n",
    "from models import weights_init, Discriminator, Generator\n",
    "from operation import copy_G_params, load_params\n",
    "\n",
    "\n",
    "device = torch.device(\"cuda\" if torch.cuda.is_available() else \"cpu\")\n",
    "\n",
    "# model_path = os.path.abspath(\"models/all_50000.pth\")  # 確保這個檔案存在\n",
    "model_path = os.path.abspath(\"fine_tuned_stylegan2.pth\")  # 確保這個檔案存在\n",
    "if not os.path.exists(model_path):\n",
    "    raise FileNotFoundError(f\"模型權重檔案不存在: {model_path}\")\n",
    "\n",
    "\n",
    "# latent_dim = 100  # 你的 Generator 使用的是 nz=100\n",
    "netG = Generator(im_size=256, nz=256)\n",
    "netG.apply(weights_init)\n",
    "\n",
    "netD = Discriminator(im_size=256)\n",
    "netD.apply(weights_init)\n",
    "\n",
    "netG.to(device)\n",
    "netD.to(device)\n",
    "\n",
    "ckpt = torch.load(model_path, map_location=device, weights_only=True)\n",
    "netG.load_state_dict(ckpt['g'])\n",
    "netD.load_state_dict(ckpt['d'])\n",
    "# avg_param_G = ckpt['g_ema']\n",
    "# load_params(netG, avg_param_G)\n",
    "\n",
    "\n",
    "num_samples = 4  # 產生 4 張圖片\n",
    "z = torch.randn(num_samples, 256).to(device)  \n",
    "\n",
    "\n",
    "with torch.no_grad():\n",
    "    generated_images = netG(z)[0]\n",
    "\n",
    "generated_images = (generated_images + 1) / 2  # 轉換到 [0,1] 範圍\n",
    "for i, img in enumerate(generated_images):\n",
    "    vutils.save_image(img, f\"generated_{i}.png\")\n",
    "\n",
    "print(\"✅ 圖片已生成並儲存！\")\n"
   ]
  }
 ],
 "metadata": {
  "kernelspec": {
   "display_name": "Python 3",
   "language": "python",
   "name": "python3"
  },
  "language_info": {
   "codemirror_mode": {
    "name": "ipython",
    "version": 3
   },
   "file_extension": ".py",
   "mimetype": "text/x-python",
   "name": "python",
   "nbconvert_exporter": "python",
   "pygments_lexer": "ipython3",
   "version": "3.12.7"
  }
 },
 "nbformat": 4,
 "nbformat_minor": 2
}
