{
 "cells": [
  {
   "cell_type": "code",
   "execution_count": 1,
   "metadata": {},
   "outputs": [],
   "source": [
    "import torch\n",
    "import os\n",
    "import torchvision.utils as vutils\n",
    "import torch.nn as nn\n",
    "import torch.nn.functional as F\n",
    "from models import weights_init, Discriminator, Generator\n",
    "from operation import copy_G_params, load_params\n",
    "from diffaug import DiffAugment\n",
    "policy = 'color,translation'\n",
    "\n"
   ]
  },
  {
   "cell_type": "code",
   "execution_count": 2,
   "metadata": {},
   "outputs": [
    {
     "name": "stdout",
     "output_type": "stream",
     "text": [
      "cuda\n"
     ]
    },
    {
     "name": "stderr",
     "output_type": "stream",
     "text": [
      "C:\\Users\\b4088\\AppData\\Local\\Temp\\ipykernel_31140\\2204126162.py:20: FutureWarning: You are using `torch.load` with `weights_only=False` (the current default value), which uses the default pickle module implicitly. It is possible to construct malicious pickle data which will execute arbitrary code during unpickling (See https://github.com/pytorch/pytorch/blob/main/SECURITY.md#untrusted-models for more details). In a future release, the default value for `weights_only` will be flipped to `True`. This limits the functions that could be executed during unpickling. Arbitrary objects will no longer be allowed to be loaded via this mode unless they are explicitly allowlisted by the user via `torch.serialization.add_safe_globals`. We recommend you start setting `weights_only=True` for any use case where you don't have full control of the loaded file. Please open an issue on GitHub for any issues related to this experimental feature.\n",
      "  ckpt = torch.load(model_path, map_location=device)\n"
     ]
    }
   ],
   "source": [
    "device = torch.device(\"cuda\" if torch.cuda.is_available() else \"cpu\")\n",
    "print(torch.device(\"cuda\"))\n",
    "\n",
    "model_path = os.path.abspath(\"models\\\\all_40000.pth\")  # 確保這個檔案存在\n",
    "\n",
    "if not os.path.exists(model_path):\n",
    "    raise FileNotFoundError(f\"模型權重檔案不存在: {model_path}\")\n",
    "\n",
    "\n",
    "# latent_dim = 100  # 你的 Generator 使用的是 nz=100\n",
    "netG = Generator(im_size=256, nz=256)\n",
    "netG.apply(weights_init)\n",
    "\n",
    "netD = Discriminator(im_size=256)\n",
    "netD.apply(weights_init)\n",
    "\n",
    "netG.to(device)\n",
    "netD.to(device)\n",
    "\n",
    "ckpt = torch.load(model_path, map_location=device)\n",
    "netG.load_state_dict(ckpt['g'])\n",
    "netD.load_state_dict(ckpt['d'])\n",
    "avg_param_G = ckpt['g_ema']\n",
    "load_params(netG, avg_param_G)\n",
    "\n",
    "# netG = nn.DataParallel(netG, device_ids=[0, 1])\n",
    "# netD = nn.DataParallel(netD, device_ids=[0, 1])\n",
    "\n"
   ]
  },
  {
   "cell_type": "code",
   "execution_count": 3,
   "metadata": {},
   "outputs": [
    {
     "name": "stdout",
     "output_type": "stream",
     "text": [
      "init\n",
      "feat_8\n",
      "feat_16\n",
      "feat_32\n",
      "feat_64\n",
      "feat_128\n",
      "feat_256\n",
      "se_64\n",
      "se_128\n",
      "se_256\n",
      "to_128\n",
      "to_big\n"
     ]
    }
   ],
   "source": [
    "# list all layer\n",
    "for name, param in netG.named_children():\n",
    "    print(name)"
   ]
  },
  {
   "cell_type": "markdown",
   "metadata": {},
   "source": [
    "Freeze specific layers"
   ]
  },
  {
   "cell_type": "code",
   "execution_count": 4,
   "metadata": {},
   "outputs": [],
   "source": [
    "import torch.optim as optim\n",
    "\n",
    "# targets = [ 'se_64', 'se_128', 'se_256', 'to_big']\n",
    "targets = ['init', 'feat_8', 'feat_16', 'se_64', 'se_128', 'se_256', 'to_big']\n",
    "for name, layer in netG.named_children():\n",
    "    for param in layer.parameters():\n",
    "        if(name in targets):\n",
    "            param.requires_grad = False\n",
    "        else:\n",
    "            param.requires_grad = True\n",
    "\n",
    "nlr = 0.0002\n",
    "nbeta1 = 0.0\n",
    "weight_decay = 0.0003\n",
    "g_optimizer = optim.Adam(netG.parameters(), lr=nlr, betas=(nbeta1, 0.99), weight_decay=weight_decay)\n",
    "d_optimizer = optim.Adam(netD.parameters(), lr=nlr, betas=(nbeta1, 0.99), weight_decay=weight_decay)"
   ]
  },
  {
   "cell_type": "markdown",
   "metadata": {},
   "source": [
    "Load data"
   ]
  },
  {
   "cell_type": "code",
   "execution_count": 5,
   "metadata": {},
   "outputs": [
    {
     "name": "stdout",
     "output_type": "stream",
     "text": [
      "19\n"
     ]
    }
   ],
   "source": [
    "from operation import ImageFolder\n",
    "import torchvision.transforms as transforms\n",
    "from torch.utils.data.dataloader import DataLoader\n",
    "from operation import ImageFolder, InfiniteSamplerWrapper\n",
    "\n",
    "\n",
    "# data_root = 'C:\\\\Users\\\\b4088\\\\OneDrive\\\\Desktop\\\\DeepLearning\\\\Assignment\\\\FinalProject\\\\few-shot-image-datasets\\\\few-shot-images\\\\art-painting\\\\img'\n",
    "data_root = 'style_augmentation'\n",
    "transform_list = [\n",
    "            transforms.Resize((int(256),int(256))),\n",
    "            transforms.RandomHorizontalFlip(),\n",
    "            transforms.ToTensor(),\n",
    "            transforms.Normalize(mean=[0.5, 0.5, 0.5], std=[0.5, 0.5, 0.5]),\n",
    "        ]\n",
    "trans = transforms.Compose(transform_list)\n",
    "\n",
    "dataset = ImageFolder(root=data_root, transform=trans)\n",
    "print(len(dataset))\n",
    "dataloader = iter(DataLoader(dataset, batch_size=4, shuffle=False,\n",
    "                      sampler=InfiniteSamplerWrapper(dataset), num_workers=2, pin_memory=True))\n"
   ]
  },
  {
   "cell_type": "markdown",
   "metadata": {},
   "source": [
    "Model learn new style"
   ]
  },
  {
   "cell_type": "code",
   "execution_count": null,
   "metadata": {},
   "outputs": [
    {
     "name": "stdout",
     "output_type": "stream",
     "text": [
      "Setting up [LPIPS] perceptual loss: trunk [vgg], v[0.1], spatial [off]\n"
     ]
    },
    {
     "name": "stderr",
     "output_type": "stream",
     "text": [
      "c:\\Users\\b4088\\AppData\\Local\\Programs\\Python\\Python312\\Lib\\site-packages\\torchvision\\models\\_utils.py:208: UserWarning: The parameter 'pretrained' is deprecated since 0.13 and may be removed in the future, please use 'weights' instead.\n",
      "  warnings.warn(\n",
      "c:\\Users\\b4088\\AppData\\Local\\Programs\\Python\\Python312\\Lib\\site-packages\\torchvision\\models\\_utils.py:223: UserWarning: Arguments other than a weight enum or `None` for 'weights' are deprecated since 0.13 and may be removed in the future. The current behavior is equivalent to passing `weights=VGG16_Weights.IMAGENET1K_V1`. You can also use `weights=VGG16_Weights.DEFAULT` to get the most up-to-date weights.\n",
      "  warnings.warn(msg)\n"
     ]
    },
    {
     "name": "stdout",
     "output_type": "stream",
     "text": [
      "Loading model from: c:\\Users\\b4088\\AppData\\Local\\Programs\\Python\\Python312\\Lib\\site-packages\\lpips\\weights\\v0.1\\vgg.pth\n"
     ]
    },
    {
     "name": "stderr",
     "output_type": "stream",
     "text": [
      "c:\\Users\\b4088\\AppData\\Local\\Programs\\Python\\Python312\\Lib\\site-packages\\lpips\\lpips.py:107: FutureWarning: You are using `torch.load` with `weights_only=False` (the current default value), which uses the default pickle module implicitly. It is possible to construct malicious pickle data which will execute arbitrary code during unpickling (See https://github.com/pytorch/pytorch/blob/main/SECURITY.md#untrusted-models for more details). In a future release, the default value for `weights_only` will be flipped to `True`. This limits the functions that could be executed during unpickling. Arbitrary objects will no longer be allowed to be loaded via this mode unless they are explicitly allowlisted by the user via `torch.serialization.add_safe_globals`. We recommend you start setting `weights_only=True` for any use case where you don't have full control of the loaded file. Please open an issue on GitHub for any issues related to this experimental feature.\n",
      "  self.load_state_dict(torch.load(model_path, map_location='cpu'), strict=False)\n",
      "  0%|          | 0/50 [00:00<?, ?it/s]c:\\Users\\b4088\\AppData\\Local\\Programs\\Python\\Python312\\Lib\\site-packages\\torch\\functional.py:534: UserWarning: torch.meshgrid: in an upcoming release, it will be required to pass the indexing argument. (Triggered internally at C:\\actions-runner\\_work\\pytorch\\pytorch\\builder\\windows\\pytorch\\aten\\src\\ATen\\native\\TensorShape.cpp:3596.)\n",
      "  return _VF.meshgrid(tensors, **kwargs)  # type: ignore[attr-defined]\n",
      "100%|██████████| 50/50 [00:25<00:00,  1.97it/s]\n"
     ]
    }
   ],
   "source": [
    "from tqdm import tqdm\n",
    "from train import train_d\n",
    "from diffaug import DiffAugment\n",
    "policy = 'color,translation'\n",
    "\n",
    "# set iteration you want\n",
    "# a = [10, 20, 30, 40, 50, 60, 70, 80, 90, 100]\n",
    "a = [50]\n",
    "for j in range (0, len(a)):\n",
    "    for i in tqdm(range(0, a[j])):\n",
    "        real_images = next(dataloader)\n",
    "        real_images = real_images.to(device)\n",
    "        real_images = DiffAugment(real_images, policy=policy)\n",
    "\n",
    "        batch_size = real_images.size(0)\n",
    "\n",
    "        z = torch.randn(batch_size, 256, 1, 1).to(device)\n",
    "\n",
    "        fake_images = netG(z)\n",
    "        fake_images = [DiffAugment(fake, policy=policy) for fake in fake_images]\n",
    "\n",
    "\n",
    "        # train disc\n",
    "        netD.zero_grad()\n",
    "\n",
    "        err_dr, rec_img_all, rec_img_small, rec_img_part = train_d(netD, real_images, label=\"real\")\n",
    "        train_d(netD, [fi.detach() for fi in fake_images], label=\"fake\")\n",
    "        d_optimizer.step()\n",
    "\n",
    "        # train gen\n",
    "        netG.zero_grad()\n",
    "        pred_g = netD(fake_images, \"fake\")\n",
    "        err_g = -pred_g.mean()\n",
    "\n",
    "        err_g.backward()\n",
    "        g_optimizer.step()\n",
    "\n",
    "\n",
    "    torch.save({'g': netG.state_dict(),'g_ema': netG.state_dict(), 'd': netD.state_dict()}, f\"trans_models/iter{a[j]}_augmentation.pth\")\n"
   ]
  },
  {
   "cell_type": "markdown",
   "metadata": {},
   "source": [
    "generate images"
   ]
  },
  {
   "cell_type": "code",
   "execution_count": null,
   "metadata": {},
   "outputs": [
    {
     "name": "stderr",
     "output_type": "stream",
     "text": [
      "C:\\Users\\b4088\\AppData\\Local\\Temp\\ipykernel_22600\\3149870624.py:28: FutureWarning: You are using `torch.load` with `weights_only=False` (the current default value), which uses the default pickle module implicitly. It is possible to construct malicious pickle data which will execute arbitrary code during unpickling (See https://github.com/pytorch/pytorch/blob/main/SECURITY.md#untrusted-models for more details). In a future release, the default value for `weights_only` will be flipped to `True`. This limits the functions that could be executed during unpickling. Arbitrary objects will no longer be allowed to be loaded via this mode unless they are explicitly allowlisted by the user via `torch.serialization.add_safe_globals`. We recommend you start setting `weights_only=True` for any use case where you don't have full control of the loaded file. Please open an issue on GitHub for any issues related to this experimental feature.\n",
      "  ckpt = torch.load(model_path, map_location=device)\n"
     ]
    },
    {
     "name": "stdout",
     "output_type": "stream",
     "text": [
      "✅ iter100_圖片已生成並儲存！\n"
     ]
    }
   ],
   "source": [
    "import torch\n",
    "import os\n",
    "import torchvision.utils as vutils\n",
    "import torch.nn as nn\n",
    "import torch.nn.functional as F\n",
    "from models import weights_init, Discriminator, Generator\n",
    "from operation import copy_G_params, load_params\n",
    "\n",
    "\n",
    "device = torch.device(\"cuda\" if torch.cuda.is_available() else \"cpu\")\n",
    "\n",
    "model_path = os.path.abspath(\"models/all_40000.pth\") \n",
    "# mode2_path = os.path.abspath(f\"trans_models/iter50.pth\") \n",
    "# mode3_path = os.path.abspath(f\"trans_models/iter50_augmentation.pth\") \n",
    "if not os.path.exists(model_path):\n",
    "    raise FileNotFoundError(f\"模型權重檔案不存在: {model_path}\")\n",
    "\n",
    "\n",
    "netG = Generator(im_size=256, nz=256)\n",
    "netG.apply(weights_init)\n",
    "netG.to(device)\n",
    "ckpt = torch.load(model_path, map_location=device)\n",
    "netG.load_state_dict(ckpt['g'])\n",
    "\n",
    "\n",
    "# netGL = Generator(im_size=256, nz=256)\n",
    "# netGL.apply(weights_init)\n",
    "# netGL.to(device)\n",
    "# ckptL = torch.load(mode2_path, map_location=device)\n",
    "# netGL.load_state_dict(ckptL['g'])\n",
    "\n",
    "# netGLA = Generator(im_size=256, nz=256)\n",
    "# netGLA.apply(weights_init)\n",
    "# netGLA.to(device)\n",
    "# ckptLA = torch.load(mode3_path, map_location=device)\n",
    "# netGLA.load_state_dict(ckptLA['g'])\n",
    "\n",
    "num_samples = 4  # 產生 4 張圖片\n",
    "z = torch.randn(num_samples, 256).to(device)  \n",
    "\n",
    "\n",
    "with torch.no_grad():\n",
    "    generated_images = netG(z)[0]\n",
    "\n",
    "generated_images = (generated_images + 1) / 2  # 轉換到 [0,1] 範圍\n",
    "for i, img in enumerate(generated_images):\n",
    "    vutils.save_image(img, f\"result/generated_new110_{i}.png\")\n",
    "    # vutils.save_image(img, f\"GAN/generated_{i}.png\")\n",
    "\n",
    "print(f\"✅ iter100_圖片已生成並儲存！\")\n"
   ]
  }
 ],
 "metadata": {
  "kernelspec": {
   "display_name": "Python 3",
   "language": "python",
   "name": "python3"
  },
  "language_info": {
   "codemirror_mode": {
    "name": "ipython",
    "version": 3
   },
   "file_extension": ".py",
   "mimetype": "text/x-python",
   "name": "python",
   "nbconvert_exporter": "python",
   "pygments_lexer": "ipython3",
   "version": "3.12.7"
  }
 },
 "nbformat": 4,
 "nbformat_minor": 4
}
